{
 "cells": [
  {
   "cell_type": "code",
   "execution_count": 6,
   "metadata": {},
   "outputs": [
    {
     "name": "stdout",
     "output_type": "stream",
     "text": [
      "output_pdfs\\Wikipedia_方針與指引_4.pdf\n",
      "  建议用词    等义用词                                                 说明\n",
      "0   必须    须、务必                             表达强制满足的条件，操作不满足条件须被撤销。\n",
      "1   不得  不可以、不可                           表达绝对禁止的条件，操作符合禁止的条件须被撤销。\n",
      "2   应该    应、应当  表达强烈推荐但非强制满足的条件，操作不满足条件需要解释、其他人可提醒，但不是必须撤销。注：方...\n",
      "3  不应该      不应                       表达做法强烈不推荐的条件，若操作符合不推荐的条件应改掉。\n",
      "4   建议     不适用                            表达推荐但没达到不需要解释的条件，但可作提醒。\n",
      "5   可以       可                                      表达获允许、有权做的条件。\n",
      "xxx ['建议用词', '等义用词', '说明']\n",
      "必须\n",
      "须、务必\n",
      "表达强制满足的条件，操作不满足条件须被撤销。\n",
      "不得\n",
      "不可以、不可\n",
      "表达绝对禁止的条件，操作符合禁止的条件须被撤销。\n",
      "应该\n",
      "应、应当\n",
      "表达强烈推荐但非强制满足的条件，操作不满足条件需要解释、其他人可提醒，但不是必须撤销。注：方针非法律，此类用词不用在强制的情况。\n",
      "不应该\n",
      "不应\n",
      "表达做法强烈不推荐的条件，若操作符合不推荐的条件应改掉。\n",
      "建议\n",
      "不适用\n",
      "表达推荐但没达到不需要解释的条件，但可作提醒。\n",
      "可以\n",
      "可\n",
      "表达获允许、有权做的条件。\n"
     ]
    },
    {
     "ename": "LayoutError",
     "evalue": "Flowable <Table@0x1A500695950 6 rows x 3 cols(tallest row 2147483657)> with cell(0,0) containing\n'<Paragraph at 0x1a50139c550>必须'(456.0 x 12884901942), tallest cell 2147483657.0 points,  too large on page 2 in frame 'normal'(456.0 x 636.0*) of template 'Later'",
     "output_type": "error",
     "traceback": [
      "\u001b[1;31m---------------------------------------------------------------------------\u001b[0m",
      "\u001b[1;31mLayoutError\u001b[0m                               Traceback (most recent call last)",
      "Cell \u001b[1;32mIn[6], line 31\u001b[0m\n\u001b[0;32m     29\u001b[0m \u001b[38;5;28mprint\u001b[39m(pdf_path)\n\u001b[0;32m     30\u001b[0m \u001b[38;5;28mprint\u001b[39m(df)\n\u001b[1;32m---> 31\u001b[0m \u001b[43mtable2img\u001b[49m\u001b[38;5;241;43m.\u001b[39;49m\u001b[43mgenerate_table\u001b[49m\u001b[43m(\u001b[49m\u001b[43mdf\u001b[49m\u001b[38;5;241;43m=\u001b[39;49m\u001b[43mdf\u001b[49m\u001b[43m,\u001b[49m\u001b[43m \u001b[49m\u001b[43mpdf_path\u001b[49m\u001b[38;5;241;43m=\u001b[39;49m\u001b[43mpdf_path\u001b[49m\u001b[43m)\u001b[49m\n\u001b[0;32m     33\u001b[0m noisy_image \u001b[38;5;241m=\u001b[39m table2img\u001b[38;5;241m.\u001b[39mpdf_to_images(pdf_path\u001b[38;5;241m=\u001b[39mpdf_path)\n\u001b[0;32m     35\u001b[0m \u001b[38;5;28;01mif\u001b[39;00m noisy_image \u001b[38;5;129;01mis\u001b[39;00m \u001b[38;5;28;01mNone\u001b[39;00m:\n",
      "File \u001b[1;32md:\\工作相关\\代码测试\\维基百科表格大模型\\utils\\table2img.py:148\u001b[0m, in \u001b[0;36mgenerate_table\u001b[1;34m(df, pdf_path)\u001b[0m\n\u001b[0;32m    145\u001b[0m content \u001b[38;5;241m=\u001b[39m [table]\n\u001b[0;32m    147\u001b[0m \u001b[38;5;66;03m# 将内容添加到 PDF 文档中并保存\u001b[39;00m\n\u001b[1;32m--> 148\u001b[0m \u001b[43mdoc\u001b[49m\u001b[38;5;241;43m.\u001b[39;49m\u001b[43mbuild\u001b[49m\u001b[43m(\u001b[49m\u001b[43mcontent\u001b[49m\u001b[43m)\u001b[49m\n",
      "File \u001b[1;32mc:\\Users\\86182\\AppData\\Local\\Programs\\Python\\Python311\\Lib\\site-packages\\reportlab\\platypus\\doctemplate.py:1317\u001b[0m, in \u001b[0;36mSimpleDocTemplate.build\u001b[1;34m(self, flowables, onFirstPage, onLaterPages, canvasmaker)\u001b[0m\n\u001b[0;32m   1315\u001b[0m \u001b[38;5;28;01mif\u001b[39;00m onLaterPages \u001b[38;5;129;01mis\u001b[39;00m _doNothing \u001b[38;5;129;01mand\u001b[39;00m \u001b[38;5;28mhasattr\u001b[39m(\u001b[38;5;28mself\u001b[39m,\u001b[38;5;124m'\u001b[39m\u001b[38;5;124monLaterPages\u001b[39m\u001b[38;5;124m'\u001b[39m):\n\u001b[0;32m   1316\u001b[0m     \u001b[38;5;28mself\u001b[39m\u001b[38;5;241m.\u001b[39mpageTemplates[\u001b[38;5;241m1\u001b[39m]\u001b[38;5;241m.\u001b[39mbeforeDrawPage \u001b[38;5;241m=\u001b[39m \u001b[38;5;28mself\u001b[39m\u001b[38;5;241m.\u001b[39monLaterPages\n\u001b[1;32m-> 1317\u001b[0m \u001b[43mBaseDocTemplate\u001b[49m\u001b[38;5;241;43m.\u001b[39;49m\u001b[43mbuild\u001b[49m\u001b[43m(\u001b[49m\u001b[38;5;28;43mself\u001b[39;49m\u001b[43m,\u001b[49m\u001b[43mflowables\u001b[49m\u001b[43m,\u001b[49m\u001b[43m \u001b[49m\u001b[43mcanvasmaker\u001b[49m\u001b[38;5;241;43m=\u001b[39;49m\u001b[43mcanvasmaker\u001b[49m\u001b[43m)\u001b[49m\n",
      "File \u001b[1;32mc:\\Users\\86182\\AppData\\Local\\Programs\\Python\\Python311\\Lib\\site-packages\\reportlab\\platypus\\doctemplate.py:1082\u001b[0m, in \u001b[0;36mBaseDocTemplate.build\u001b[1;34m(self, flowables, filename, canvasmaker)\u001b[0m\n\u001b[0;32m   1080\u001b[0m \u001b[38;5;28;01mtry\u001b[39;00m:\n\u001b[0;32m   1081\u001b[0m     first \u001b[38;5;241m=\u001b[39m flowables[\u001b[38;5;241m0\u001b[39m]\n\u001b[1;32m-> 1082\u001b[0m     \u001b[38;5;28;43mself\u001b[39;49m\u001b[38;5;241;43m.\u001b[39;49m\u001b[43mhandle_flowable\u001b[49m\u001b[43m(\u001b[49m\u001b[43mflowables\u001b[49m\u001b[43m)\u001b[49m\n\u001b[0;32m   1083\u001b[0m     handled \u001b[38;5;241m+\u001b[39m\u001b[38;5;241m=\u001b[39m \u001b[38;5;241m1\u001b[39m\n\u001b[0;32m   1084\u001b[0m \u001b[38;5;28;01mexcept\u001b[39;00m:\n\u001b[0;32m   1085\u001b[0m     \u001b[38;5;66;03m#if it has trace info, add it to the traceback message.\u001b[39;00m\n",
      "File \u001b[1;32mc:\\Users\\86182\\AppData\\Local\\Programs\\Python\\Python311\\Lib\\site-packages\\reportlab\\platypus\\doctemplate.py:961\u001b[0m, in \u001b[0;36mBaseDocTemplate.handle_flowable\u001b[1;34m(self, flowables)\u001b[0m\n\u001b[0;32m    957\u001b[0m     ident \u001b[38;5;241m=\u001b[39m \u001b[38;5;124m\"\u001b[39m\u001b[38;5;124mFlowable \u001b[39m\u001b[38;5;132;01m%s\u001b[39;00m\u001b[38;5;132;01m%s\u001b[39;00m\u001b[38;5;124m too large on page \u001b[39m\u001b[38;5;132;01m%d\u001b[39;00m\u001b[38;5;124m in frame \u001b[39m\u001b[38;5;132;01m%r\u001b[39;00m\u001b[38;5;132;01m%s\u001b[39;00m\u001b[38;5;124m of template \u001b[39m\u001b[38;5;132;01m%r\u001b[39;00m\u001b[38;5;124m\"\u001b[39m \u001b[38;5;241m%\u001b[39m \\\n\u001b[0;32m    958\u001b[0m             (\u001b[38;5;28mself\u001b[39m\u001b[38;5;241m.\u001b[39m_fIdent(f,\u001b[38;5;241m60\u001b[39m,frame),_fSizeString(f),\u001b[38;5;28mself\u001b[39m\u001b[38;5;241m.\u001b[39mpage, \u001b[38;5;28mself\u001b[39m\u001b[38;5;241m.\u001b[39mframe\u001b[38;5;241m.\u001b[39mid,\n\u001b[0;32m    959\u001b[0m                     \u001b[38;5;28mself\u001b[39m\u001b[38;5;241m.\u001b[39mframe\u001b[38;5;241m.\u001b[39m_aSpaceString(), \u001b[38;5;28mself\u001b[39m\u001b[38;5;241m.\u001b[39mpageTemplate\u001b[38;5;241m.\u001b[39mid)\n\u001b[0;32m    960\u001b[0m     \u001b[38;5;66;03m#leave to keep apart from the raise\u001b[39;00m\n\u001b[1;32m--> 961\u001b[0m     \u001b[38;5;28;01mraise\u001b[39;00m LayoutError(ident)\n\u001b[0;32m    962\u001b[0m \u001b[38;5;66;03m# this ought to be cleared when they are finally drawn!\u001b[39;00m\n\u001b[0;32m    963\u001b[0m f\u001b[38;5;241m.\u001b[39m_postponed \u001b[38;5;241m=\u001b[39m \u001b[38;5;241m1\u001b[39m\n",
      "\u001b[1;31mLayoutError\u001b[0m: Flowable <Table@0x1A500695950 6 rows x 3 cols(tallest row 2147483657)> with cell(0,0) containing\n'<Paragraph at 0x1a50139c550>必须'(456.0 x 12884901942), tallest cell 2147483657.0 points,  too large on page 2 in frame 'normal'(456.0 x 636.0*) of template 'Later'"
     ]
    }
   ],
   "source": [
    "\n",
    "from utils import crawl_wiki, table_parser, table2img\n",
    "import urllib.parse\n",
    "import os \n",
    "\n",
    "\n",
    "\n",
    "pdf_outdir = 'output_pdfs'\n",
    "img_outdir = 'output_imgs'\n",
    "\n",
    "\n",
    "for tab_idx in range(len(tables)):\n",
    "\n",
    "    df = tables[tab_idx]\n",
    "    df_filter = table_parser.process_table(df)\n",
    "\n",
    "    if df_filter is None:  # table 不能为空\n",
    "        continue\n",
    "    json_str = df_filter.to_json(orient='records', force_ascii=False)\n",
    "\n",
    "    # 将空值替换为空字符串\n",
    "    df.fillna('', inplace=True)\n",
    "\n",
    "    pdf_path = os.path.join(pdf_outdir,  decoded_entry.replace(':', '_') + '_' + str(tab_idx) + '.pdf')\n",
    "    print(pdf_path)\n",
    "    print(df)\n",
    "    table2img.generate_table(df=df, pdf_path=pdf_path)\n",
    "\n",
    "    noisy_image = table2img.pdf_to_images(pdf_path=pdf_path)\n",
    "\n",
    "    if noisy_image is None:\n",
    "        continue \n",
    "    noisy_image.save(os.path.join(img_outdir, decoded_entry.replace(':', '_') + '_' + str(tab_idx)+ '.png'), \"PNG\")\n",
    "noisy_image    \n",
    "\n",
    "\n",
    "\n"
   ]
  },
  {
   "cell_type": "code",
   "execution_count": 78,
   "metadata": {},
   "outputs": [
    {
     "name": "stdout",
     "output_type": "stream",
     "text": [
      "start\n",
      "\n",
      "1821年7月13日\n",
      "挪威王国国旗\n",
      "\n",
      "比例8:11。红底白边蓝十字的旗帜。红色、白色与蓝色象征自由、平等、博爱。该旗以丹麦国旗为基本图案，结合美国星条旗和法国三色旗的色彩，在红底白十字中加入蓝色十字。\n",
      "\n",
      "1915年6月19日\n",
      "冰岛共和国国旗\n",
      "\n",
      "比例18:25。蓝底白边红十字的旗帜。蓝色代表海水，也是冰岛的传统服饰。白色代表冰岛的雪原与冰河，红色代表冰岛的火山与地热。\n",
      "end\n"
     ]
    },
    {
     "ename": "LayoutError",
     "evalue": "Flowable <Table@0x15FF93C3610 2 rows x 5 cols(tallest row 2147483657)> with cell(0,0) containing\n'<Paragraph at 0x15ff94069d0>'(456.0 x 4294967314), tallest cell 2147483657.0 points,  too large on page 2 in frame 'normal'(456.0 x 636.0*) of template 'Later'",
     "output_type": "error",
     "traceback": [
      "\u001b[1;31m---------------------------------------------------------------------------\u001b[0m",
      "\u001b[1;31mLayoutError\u001b[0m                               Traceback (most recent call last)",
      "Cell \u001b[1;32mIn[78], line 72\u001b[0m\n\u001b[0;32m     70\u001b[0m \u001b[38;5;66;03m# 构建PDF文档\u001b[39;00m\n\u001b[0;32m     71\u001b[0m elements \u001b[38;5;241m=\u001b[39m [table]\n\u001b[1;32m---> 72\u001b[0m \u001b[43mdoc\u001b[49m\u001b[38;5;241;43m.\u001b[39;49m\u001b[43mbuild\u001b[49m\u001b[43m(\u001b[49m\u001b[43melements\u001b[49m\u001b[43m)\u001b[49m\n",
      "File \u001b[1;32mc:\\Users\\86182\\AppData\\Local\\Programs\\Python\\Python311\\Lib\\site-packages\\reportlab\\platypus\\doctemplate.py:1317\u001b[0m, in \u001b[0;36mSimpleDocTemplate.build\u001b[1;34m(self, flowables, onFirstPage, onLaterPages, canvasmaker)\u001b[0m\n\u001b[0;32m   1315\u001b[0m \u001b[38;5;28;01mif\u001b[39;00m onLaterPages \u001b[38;5;129;01mis\u001b[39;00m _doNothing \u001b[38;5;129;01mand\u001b[39;00m \u001b[38;5;28mhasattr\u001b[39m(\u001b[38;5;28mself\u001b[39m,\u001b[38;5;124m'\u001b[39m\u001b[38;5;124monLaterPages\u001b[39m\u001b[38;5;124m'\u001b[39m):\n\u001b[0;32m   1316\u001b[0m     \u001b[38;5;28mself\u001b[39m\u001b[38;5;241m.\u001b[39mpageTemplates[\u001b[38;5;241m1\u001b[39m]\u001b[38;5;241m.\u001b[39mbeforeDrawPage \u001b[38;5;241m=\u001b[39m \u001b[38;5;28mself\u001b[39m\u001b[38;5;241m.\u001b[39monLaterPages\n\u001b[1;32m-> 1317\u001b[0m \u001b[43mBaseDocTemplate\u001b[49m\u001b[38;5;241;43m.\u001b[39;49m\u001b[43mbuild\u001b[49m\u001b[43m(\u001b[49m\u001b[38;5;28;43mself\u001b[39;49m\u001b[43m,\u001b[49m\u001b[43mflowables\u001b[49m\u001b[43m,\u001b[49m\u001b[43m \u001b[49m\u001b[43mcanvasmaker\u001b[49m\u001b[38;5;241;43m=\u001b[39;49m\u001b[43mcanvasmaker\u001b[49m\u001b[43m)\u001b[49m\n",
      "File \u001b[1;32mc:\\Users\\86182\\AppData\\Local\\Programs\\Python\\Python311\\Lib\\site-packages\\reportlab\\platypus\\doctemplate.py:1082\u001b[0m, in \u001b[0;36mBaseDocTemplate.build\u001b[1;34m(self, flowables, filename, canvasmaker)\u001b[0m\n\u001b[0;32m   1080\u001b[0m \u001b[38;5;28;01mtry\u001b[39;00m:\n\u001b[0;32m   1081\u001b[0m     first \u001b[38;5;241m=\u001b[39m flowables[\u001b[38;5;241m0\u001b[39m]\n\u001b[1;32m-> 1082\u001b[0m     \u001b[38;5;28;43mself\u001b[39;49m\u001b[38;5;241;43m.\u001b[39;49m\u001b[43mhandle_flowable\u001b[49m\u001b[43m(\u001b[49m\u001b[43mflowables\u001b[49m\u001b[43m)\u001b[49m\n\u001b[0;32m   1083\u001b[0m     handled \u001b[38;5;241m+\u001b[39m\u001b[38;5;241m=\u001b[39m \u001b[38;5;241m1\u001b[39m\n\u001b[0;32m   1084\u001b[0m \u001b[38;5;28;01mexcept\u001b[39;00m:\n\u001b[0;32m   1085\u001b[0m     \u001b[38;5;66;03m#if it has trace info, add it to the traceback message.\u001b[39;00m\n",
      "File \u001b[1;32mc:\\Users\\86182\\AppData\\Local\\Programs\\Python\\Python311\\Lib\\site-packages\\reportlab\\platypus\\doctemplate.py:961\u001b[0m, in \u001b[0;36mBaseDocTemplate.handle_flowable\u001b[1;34m(self, flowables)\u001b[0m\n\u001b[0;32m    957\u001b[0m     ident \u001b[38;5;241m=\u001b[39m \u001b[38;5;124m\"\u001b[39m\u001b[38;5;124mFlowable \u001b[39m\u001b[38;5;132;01m%s\u001b[39;00m\u001b[38;5;132;01m%s\u001b[39;00m\u001b[38;5;124m too large on page \u001b[39m\u001b[38;5;132;01m%d\u001b[39;00m\u001b[38;5;124m in frame \u001b[39m\u001b[38;5;132;01m%r\u001b[39;00m\u001b[38;5;132;01m%s\u001b[39;00m\u001b[38;5;124m of template \u001b[39m\u001b[38;5;132;01m%r\u001b[39;00m\u001b[38;5;124m\"\u001b[39m \u001b[38;5;241m%\u001b[39m \\\n\u001b[0;32m    958\u001b[0m             (\u001b[38;5;28mself\u001b[39m\u001b[38;5;241m.\u001b[39m_fIdent(f,\u001b[38;5;241m60\u001b[39m,frame),_fSizeString(f),\u001b[38;5;28mself\u001b[39m\u001b[38;5;241m.\u001b[39mpage, \u001b[38;5;28mself\u001b[39m\u001b[38;5;241m.\u001b[39mframe\u001b[38;5;241m.\u001b[39mid,\n\u001b[0;32m    959\u001b[0m                     \u001b[38;5;28mself\u001b[39m\u001b[38;5;241m.\u001b[39mframe\u001b[38;5;241m.\u001b[39m_aSpaceString(), \u001b[38;5;28mself\u001b[39m\u001b[38;5;241m.\u001b[39mpageTemplate\u001b[38;5;241m.\u001b[39mid)\n\u001b[0;32m    960\u001b[0m     \u001b[38;5;66;03m#leave to keep apart from the raise\u001b[39;00m\n\u001b[1;32m--> 961\u001b[0m     \u001b[38;5;28;01mraise\u001b[39;00m LayoutError(ident)\n\u001b[0;32m    962\u001b[0m \u001b[38;5;66;03m# this ought to be cleared when they are finally drawn!\u001b[39;00m\n\u001b[0;32m    963\u001b[0m f\u001b[38;5;241m.\u001b[39m_postponed \u001b[38;5;241m=\u001b[39m \u001b[38;5;241m1\u001b[39m\n",
      "\u001b[1;31mLayoutError\u001b[0m: Flowable <Table@0x15FF93C3610 2 rows x 5 cols(tallest row 2147483657)> with cell(0,0) containing\n'<Paragraph at 0x15ff94069d0>'(456.0 x 4294967314), tallest cell 2147483657.0 points,  too large on page 2 in frame 'normal'(456.0 x 636.0*) of template 'Later'"
     ]
    }
   ],
   "source": [
    "from reportlab.lib.pagesizes import letter\n",
    "from reportlab.lib.styles import getSampleStyleSheet, ParagraphStyle\n",
    "from reportlab.platypus import SimpleDocTemplate, Table, TableStyle, Paragraph\n",
    "from reportlab.lib import colors\n",
    "\n",
    "# 创建PDF文档\n",
    "doc = SimpleDocTemplate(\"table_with_no_overlap.pdf\", pagesize=letter)\n",
    "\n",
    "# 获取默认样式表\n",
    "styles = getSampleStyleSheet()\n",
    "\n",
    "# 自定义段落样式来处理表格中的文本\n",
    "table_paragraph_style = ParagraphStyle(\n",
    "    'table_paragraph',\n",
    "    parent=styles['Normal'],\n",
    "    # fontName='SunFont',\n",
    "    # fontSize=10,  # 字体大小\n",
    "    # leading=14,   # 行高\n",
    "    # spaceAfter=6,  # 段后间距\n",
    "    # leftIndent=5,  # 左缩进\n",
    "    # rightIndent=5  # 右缩进\n",
    ")\n",
    "data = [\n",
    "    ['旗帜', '日期', '名称', '性质', '设计与涵义'],\n",
    " ['',  '1219年6月15日',  '丹麦王国国旗',  '',  '比例28:37。红底白十字的旗帜，是世界上最古老的国旗。据丹麦史诗，在中世纪时1219年丹麦国王瓦尔德马二世（Valdemar II）受教宗之托远征爱沙尼亚。丹麦军队原本苦战受挫，但是当时从天空降下此旗，之后丹麦军队获得了胜利，最后该旗成为国旗。另说该旗是教宗送给的旗帜，代表教宗的支持。'],\n",
    " ['',  '1821年7月13日',  '挪威王国国旗',  '',  '比例8:11。红底白边蓝十字的旗帜。红色、白色与蓝色象征自由、平等、博爱。该旗以丹麦国旗为基本图案，结合美国星条旗和法国三色旗的色彩，在红底白十字中加入蓝色十字。'],\n",
    "#  ['',  '1905年6月7日',  '瑞典王国国旗',  '',  '比例5:8。蓝底黄十字的旗帜。金十字代表瑞典福尔孔王朝中的金色十字架。1157年瑞典国王埃里克九世于远征芬兰前向神祷告，突然看到如同金色十字架的光芒横越青空，后来成为现在的国旗。'],\n",
    " ['',  '1915年6月19日', '冰岛共和国国旗',  '',  '比例18:25。蓝底白边红十字的旗帜。蓝色代表海水，也是冰岛的传统服饰。白色代表冰岛的雪原与冰河，红色代表冰岛的火山与地热。'],\n",
    "#  ['',  '1918年5月29日',  '芬兰共和国国旗',  '',  '比例11:18。白底蓝十字的旗帜。蓝色代表湖与天，白色代表雪。其中斯堪的纳维亚十字源自与瑞典的关系，蓝色与白色的颜色则是源自俄国沙皇的颜色。']\n",
    "  ]\n",
    "\n",
    "\n",
    "# # # 创建表格数据\n",
    "# data = [\n",
    "#     [\"Header 1\", \"Header      4\", \"Header 2\", \"Header 3\"],\n",
    "#     [\"Short text\",\"Shor    t text\", \"Another short text\", \"A very l ong l ong l ong l ong l ong l ong l ong l ong l ong l ong l ong l ong l ong l ong l ong l ong l ong l ong l ong l ong l ong l ong l ong l ong l ong l ong l ong l ong l ong piece of t   fsfsdfext that needs to wrap within the cell to demonstrate how to handle long text in ReportLab table. This text should wrap correctly.\"],\n",
    "#     [\"Short text\",\"Short te              xt\", \"Another short text\", \"Another long piec                                e of text that should also wrap within the table cell to ensure all content is displayed correctly.\"]\n",
    "# ]\n",
    "\n",
    "print('start')\n",
    "# 将长文本转换为Paragraph对象，以实现自动换行\n",
    "for i, row in enumerate(data):\n",
    "    if i < 2:\n",
    "        continue\n",
    "    for j, cell in enumerate(row):\n",
    "        if isinstance(cell, str):  # 将所有字符串都处理为Paragraph\n",
    "            print(cell)\n",
    "            data[i][j] = Paragraph(cell, table_paragraph_style)\n",
    "print('end')\n",
    "# 创建表格，设置每列的宽度\n",
    "table = Table(data, )# colWidths=[100, 150, 200])\n",
    "\n",
    "# 设置表格样式，包括单元格填充和间距\n",
    "table.setStyle(TableStyle([\n",
    "    ('BACKGROUND', (0, 0), (-1, 0), colors.grey),\n",
    "    ('TEXTCOLOR', (0, 0), (-1, 0), colors.whitesmoke),\n",
    "    ('ALIGN', (0, 0), (-1, -1), 'LEFT'),\n",
    "    ('FONTNAME', (0, 0), (-1, -1), 'SunFont'),\n",
    "    ('FONTSIZE', (0, 0), (-1, 0), 12),\n",
    "    ('BOTTOMPADDING', (0, 0), (-1, 0), 12),\n",
    "    ('BACKGROUND', (0, 1), (-1, -1), colors.beige),\n",
    "    ('GRID', (0, 0), (-1, -1), 1, colors.black),\n",
    "    # 设置单元格填充\n",
    "    ('LEFTPADDING', (0, 0), (-1, -1), 10),\n",
    "    ('RIGHTPADDING', (0, 0), (-1, -1), 10),\n",
    "    ('TOPPADDING', (0, 0), (-1, -1), 5),\n",
    "    ('BOTTOMPADDING', (0, 0), (-1, -1), 5),\n",
    "]))\n",
    "\n",
    "# 构建PDF文档\n",
    "elements = [table]\n",
    "doc.build(elements)\n"
   ]
  },
  {
   "cell_type": "code",
   "execution_count": null,
   "metadata": {},
   "outputs": [],
   "source": []
  },
  {
   "cell_type": "code",
   "execution_count": null,
   "metadata": {},
   "outputs": [],
   "source": []
  },
  {
   "cell_type": "code",
   "execution_count": 106,
   "metadata": {},
   "outputs": [
    {
     "name": "stdout",
     "output_type": "stream",
     "text": [
      "PDF 生成成功\n"
     ]
    }
   ],
   "source": [
    "from reportlab.lib.pagesizes import letter\n",
    "from reportlab.lib.styles import getSampleStyleSheet, ParagraphStyle\n",
    "from reportlab.platypus import SimpleDocTemplate, Paragraph, Table, TableStyle\n",
    "from reportlab.lib import colors\n",
    "from reportlab.pdfbase.ttfonts import TTFont\n",
    "from reportlab.pdfbase import pdfmetrics\n",
    "\n",
    "# 注册中文字体\n",
    "pdfmetrics.registerFont(TTFont('SimSun', 'SimSun.ttf'))\n",
    "\n",
    "# 创建 PDF 文件\n",
    "pdf = SimpleDocTemplate(\"example.pdf\", pagesize=letter)\n",
    "\n",
    "# 获取样式\n",
    "styles = getSampleStyleSheet()\n",
    "\n",
    "# 创建一个新的段落样式，使用注册的中文字体\n",
    "style = ParagraphStyle(\n",
    "    name='SimSun',\n",
    "    parent=styles['Normal'],\n",
    "    fontName='SimSun',\n",
    "    fontSize=10,\n",
    "    leading=14\n",
    ")\n",
    "\n",
    "# 准备表格数据\n",
    "data = [\n",
    "    ['Header 1', 'Header 2', 'Header 3'],\n",
    "    [Paragraph('这是一个很长的文本，用来测试自长的文本，用来测试自动换行长的文本，用来测试自动换行动换行和，用来测试自动换行和宽度自适应', style), Paragraph('短文本', style), '中等长度的文本'],\n",
    "    ['短文本', Paragraph('这是另一个较长的文本，用来测试表格列宽的自动调整', style), '再次测试']\n",
    "]\n",
    "\n",
    "# # 动态计算列宽\n",
    "# col_widths = [0] * len(data[0])\n",
    "# for row in data:\n",
    "#     for i, cell in enumerate(row):\n",
    "#         if isinstance(cell, Paragraph):\n",
    "#             para_width, _ = cell.wrap(0, 0)\n",
    "#             col_widths[i] = max(col_widths[i], para_width)\n",
    "#         else:\n",
    "#             col_widths[i] = max(col_widths[i], len(cell) * style.fontSize)\n",
    "\n",
    "# print(col_widths)\n",
    "# 创建表格并设置样式\n",
    "table = Table(data,)#  colWidths=[30, 30, 30])\n",
    "table.setStyle(TableStyle([\n",
    "    ('GRID', (0, 0), (-1, -1), 0.5, colors.black),\n",
    "    ('BACKGROUND', (0, 0), (-1, 0), colors.grey),\n",
    "    ('ALIGN', (0, 0), (-1, -1), 'LEFT'),\n",
    "    ('FONTNAME', (0, 0), (-1, -1), 'SimSun'),\n",
    "]))\n",
    "\n",
    "# 构建 PDF\n",
    "elements = [table]\n",
    "pdf.build(elements)\n",
    "\n",
    "print(\"PDF 生成成功\")\n"
   ]
  },
  {
   "cell_type": "code",
   "execution_count": 103,
   "metadata": {},
   "outputs": [
    {
     "data": {
      "text/plain": [
       "[196.09556313993176, 196.09556313993176, 63.80887372013652]"
      ]
     },
     "execution_count": 103,
     "metadata": {},
     "output_type": "execute_result"
    }
   ],
   "source": [
    "table._colWidths"
   ]
  },
  {
   "cell_type": "code",
   "execution_count": 85,
   "metadata": {},
   "outputs": [
    {
     "data": {
      "text/plain": [
       "(4, 12)"
      ]
     },
     "execution_count": 85,
     "metadata": {},
     "output_type": "execute_result"
    }
   ],
   "source": [
    "len(cell),  style.fontSize"
   ]
  },
  {
   "cell_type": "code",
   "execution_count": null,
   "metadata": {},
   "outputs": [],
   "source": []
  },
  {
   "cell_type": "code",
   "execution_count": null,
   "metadata": {},
   "outputs": [],
   "source": []
  },
  {
   "cell_type": "code",
   "execution_count": null,
   "metadata": {},
   "outputs": [],
   "source": []
  },
  {
   "cell_type": "code",
   "execution_count": null,
   "metadata": {},
   "outputs": [],
   "source": [
    "from reportlab.lib.pagesizes import letter\n",
    "from reportlab.lib.styles import getSampleStyleSheet, ParagraphStyle\n",
    "from reportlab.platypus import SimpleDocTemplate, Paragraph, Table, TableStyle\n",
    "from reportlab.lib import colors\n",
    "from reportlab.pdfbase.ttfonts import TTFont\n",
    "from reportlab.pdfbase import pdfmetrics\n",
    "\n",
    "# 注册中文字体\n",
    "pdfmetrics.registerFont(TTFont('SimSun', 'SimSun.ttf'))\n",
    "\n",
    "# 创建 PDF 文件\n",
    "pdf = SimpleDocTemplate(\"example.pdf\", pagesize=letter)\n",
    "\n",
    "# 获取样式\n",
    "styles = getSampleStyleSheet()\n",
    "\n",
    "# 创建一个新的段落样式，使用注册的中文字体\n",
    "style = ParagraphStyle(\n",
    "    name='SimSun',\n",
    "    parent=styles['Normal'],\n",
    "    fontName='SimSun',\n",
    "    fontSize=10,\n",
    "    leading=14\n",
    ")\n",
    "\n",
    "# 准备表格数据\n",
    "data = [\n",
    "    ['Header 1', 'Header 2', 'Header 3'],\n",
    "    [Paragraph('这是一个很长的文本，用来测试自动换行和宽度自适应', style), '短文本', '中等长度的文本'],\n",
    "    ['短文本', Paragraph('这是另一个较长的文本，用来测试表格列宽的自动调整', style), '再次测试']\n",
    "]\n",
    "\n",
    "# 动态计算列宽\n",
    "col_widths = [0] * len(data[0])\n",
    "for row in data:\n",
    "    for i, cell in enumerate(row):\n",
    "        if isinstance(cell, Paragraph):\n",
    "            para_width, _ = cell.wrap(0, 0)\n",
    "            print(para_width)\n",
    "            col_widths[i] = max(col_widths[i], para_width)\n",
    "        else:\n",
    "            col_widths[i] = max(col_widths[i], len(cell) * style.fontSize)\n",
    "\n",
    "print(col_widths)\n",
    "# 创建表格并设置样式\n",
    "table = Table(data, colWidths=[2*i for i in col_widths ])\n",
    "table.setStyle(TableStyle([\n",
    "    ('GRID', (0, 0), (-1, -1), 0.5, colors.black),\n",
    "    ('BACKGROUND', (0, 0), (-1, 0), colors.grey),\n",
    "    ('ALIGN', (0, 0), (-1, -1), 'LEFT'),\n",
    "    ('FONTNAME', (0, 0), (-1, -1), 'SimSun'),\n",
    "]))\n",
    "\n",
    "# 构建 PDF\n",
    "elements = [table]\n",
    "pdf.build(elements)\n",
    "\n",
    "print(\"PDF 生成成功\")\n"
   ]
  }
 ],
 "metadata": {
  "kernelspec": {
   "display_name": "Python 3",
   "language": "python",
   "name": "python3"
  },
  "language_info": {
   "codemirror_mode": {
    "name": "ipython",
    "version": 3
   },
   "file_extension": ".py",
   "mimetype": "text/x-python",
   "name": "python",
   "nbconvert_exporter": "python",
   "pygments_lexer": "ipython3",
   "version": "3.11.3"
  }
 },
 "nbformat": 4,
 "nbformat_minor": 2
}
